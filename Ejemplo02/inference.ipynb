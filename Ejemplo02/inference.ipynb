{
 "cells": [
  {
   "cell_type": "code",
   "execution_count": 5,
   "metadata": {},
   "outputs": [],
   "source": [
    "import boto3\n",
    "import pandas as pd"
   ]
  },
  {
   "cell_type": "code",
   "execution_count": 6,
   "metadata": {},
   "outputs": [],
   "source": [
    "#Iniciando la sesión en SageMaker\n",
    "sm = boto3.Session().client('runtime.sagemaker')"
   ]
  },
  {
   "cell_type": "markdown",
   "metadata": {},
   "source": [
    "# Probando el modelo desplegado con la herramienta de experimentos de SageMaker"
   ]
  },
  {
   "cell_type": "code",
   "execution_count": 28,
   "metadata": {},
   "outputs": [],
   "source": [
    "#Funcion para invocar al endpoint creado con los siguientes parametros:\n",
    "# -EndpointName: El nombre del endpoint desplegado\n",
    "# -ContentType: El tipo de dato que requiere el body\n",
    "# -Accept: El tipo de dato que requiere la respuesta\n",
    "# -Body: Proporciona los datos de entrada\n",
    "\n",
    "def infer(input_data):\n",
    "    response = sm.invoke_endpoint(EndpointName=endpoint, ContentType='text/csv', Accept='text/csv', Body=input_data)\n",
    "    prediction = response['Body'].read().decode(\"utf-8\")\n",
    "    return prediction"
   ]
  },
  {
   "cell_type": "code",
   "execution_count": 27,
   "metadata": {},
   "outputs": [
    {
     "name": "stdout",
     "output_type": "stream",
     "text": [
      "prediction: 5\n",
      "\n"
     ]
    }
   ],
   "source": [
    "#Nombre del endpoint creado\n",
    "endpoint = 'wine-1-11032021'\n",
    "#Dato de ejemplo\n",
    "data = '9.1,0.785,0.00,2.6,0.093,11.0,28.0,0.99940,3.36,0.86,9.40'\n",
    "\n",
    "#Invoación a la función \n",
    "prediction = infer(data)\n",
    "print('prediction:', prediction)"
   ]
  },
  {
   "cell_type": "markdown",
   "metadata": {},
   "source": [
    "# Verificando la precisión con los datos de prueba"
   ]
  },
  {
   "cell_type": "code",
   "execution_count": 26,
   "metadata": {},
   "outputs": [],
   "source": [
    "DATA_PATH = 'data/'\n",
    "df = pd.read_csv(DATA_PATH+'wine-red-test.csv')"
   ]
  },
  {
   "cell_type": "code",
   "execution_count": 22,
   "metadata": {},
   "outputs": [],
   "source": [
    "total = hits = 0\n",
    "\n",
    "for index, row in df.iterrows():\n",
    "    label = row['quality']\n",
    "    input_data = ','.join(row.drop('quality').astype(str).tolist())\n",
    "    prediction = infer(input_data)\n",
    "    \n",
    "    total += 1\n",
    "    if int(label) == int(prediction):\n",
    "        hits += 1"
   ]
  },
  {
   "cell_type": "code",
   "execution_count": 24,
   "metadata": {},
   "outputs": [
    {
     "name": "stdout",
     "output_type": "stream",
     "text": [
      "total: 320\n",
      "hits: 208\n",
      "score: 0.65\n"
     ]
    }
   ],
   "source": [
    "print('total:', total)\n",
    "print('hits:', hits)\n",
    "print('score:', hits/total)"
   ]
  }
 ],
 "metadata": {
  "instance_type": "ml.t3.medium",
  "kernelspec": {
   "display_name": "Python 3 (Data Science)",
   "language": "python",
   "name": "python3__SAGEMAKER_INTERNAL__arn:aws:sagemaker:us-east-2:429704687514:image/datascience-1.0"
  },
  "language_info": {
   "codemirror_mode": {
    "name": "ipython",
    "version": 3
   },
   "file_extension": ".py",
   "mimetype": "text/x-python",
   "name": "python",
   "nbconvert_exporter": "python",
   "pygments_lexer": "ipython3",
   "version": "3.7.10"
  }
 },
 "nbformat": 4,
 "nbformat_minor": 4
}
